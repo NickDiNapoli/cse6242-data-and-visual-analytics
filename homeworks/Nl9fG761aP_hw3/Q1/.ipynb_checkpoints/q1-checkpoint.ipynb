{
 "cells": [
  {
   "cell_type": "markdown",
   "id": "e5905a69",
   "metadata": {},
   "source": [
    "# CSE6242 - HW3 - Q1"
   ]
  },
  {
   "cell_type": "markdown",
   "id": "09289981",
   "metadata": {},
   "source": [
    "Pyspark Imports"
   ]
  },
  {
   "cell_type": "code",
   "execution_count": 1,
   "id": "139318cb",
   "metadata": {},
   "outputs": [],
   "source": [
    "### DO NOT MODIFY THIS CELL ###\n",
    "import pyspark\n",
    "from pyspark.sql import SQLContext\n",
    "from pyspark.sql.functions import hour, when, col, date_format, to_timestamp, round, coalesce"
   ]
  },
  {
   "cell_type": "markdown",
   "id": "3fd9e0f8",
   "metadata": {},
   "source": [
    "Initialize PySpark Context"
   ]
  },
  {
   "cell_type": "code",
   "execution_count": 2,
   "id": "b0c18c6c",
   "metadata": {},
   "outputs": [
    {
     "name": "stderr",
     "output_type": "stream",
     "text": [
      "Setting default log level to \"WARN\".\n",
      "To adjust logging level use sc.setLogLevel(newLevel). For SparkR, use setLogLevel(newLevel).\n",
      "23/10/24 02:13:50 WARN NativeCodeLoader: Unable to load native-hadoop library for your platform... using builtin-java classes where applicable\n",
      "/usr/local/lib/python3.9/dist-packages/pyspark/sql/context.py:113: FutureWarning: Deprecated in 3.0.0. Use SparkSession.builder.getOrCreate() instead.\n",
      "  warnings.warn(\n"
     ]
    }
   ],
   "source": [
    "### DO NOT MODIFY THIS CELL ###\n",
    "sc = pyspark.SparkContext(appName=\"HW3-Q1\")\n",
    "sqlContext = SQLContext(sc)"
   ]
  },
  {
   "cell_type": "markdown",
   "id": "d68ae314",
   "metadata": {},
   "source": [
    "Define function for loading data"
   ]
  },
  {
   "cell_type": "code",
   "execution_count": 3,
   "id": "7e5bbdda",
   "metadata": {},
   "outputs": [],
   "source": [
    "### DO NOT MODIFY THIS CELL ###\n",
    "def load_data():\n",
    "    df = sqlContext.read.option(\"header\",True) \\\n",
    "     .csv(\"yellow_tripdata_2019-01_short.csv\")\n",
    "    return df"
   ]
  },
  {
   "cell_type": "markdown",
   "id": "0d52409d",
   "metadata": {},
   "source": [
    "### Q1.a"
   ]
  },
  {
   "cell_type": "markdown",
   "id": "e43f6e00",
   "metadata": {},
   "source": [
    "Perform data casting to clean incoming dataset"
   ]
  },
  {
   "cell_type": "code",
   "execution_count": 4,
   "id": "11f801b4",
   "metadata": {},
   "outputs": [],
   "source": [
    "def clean_data(df):\n",
    "    '''\n",
    "    input: df a dataframe\n",
    "    output: df a dataframe with the all the original columns\n",
    "    '''\n",
    "    \n",
    "    # START YOUR CODE HERE ---------\n",
    "    \n",
    "    column_to_dtype = {\n",
    "        \"passenger_count\": pyspark.sql.types.IntegerType(),\n",
    "        \"total_amount\": pyspark.sql.types.FloatType(),\n",
    "        \"tip_amount\": pyspark.sql.types.FloatType(),\n",
    "        \"trip_distance\": pyspark.sql.types.FloatType(),\n",
    "        \"fare_amount\": pyspark.sql.types.FloatType(),\n",
    "        \"tpep_pickup_datetime\": pyspark.sql.types.TimestampType(),\n",
    "        \"tpep_dropoff_datetime\": pyspark.sql.types.TimestampType()\n",
    "    }\n",
    "    \n",
    "    for name, col_type in column_to_dtype.items():\n",
    "        df = df.withColumn(name, col(name).cast(col_type))\n",
    "\n",
    "    # END YOUR CODE HERE -----------\n",
    "    \n",
    "    return df"
   ]
  },
  {
   "cell_type": "markdown",
   "id": "d4f565d0",
   "metadata": {},
   "source": [
    "### Q1.b"
   ]
  },
  {
   "cell_type": "markdown",
   "id": "72b4f712",
   "metadata": {},
   "source": [
    "Find rate per person for based on how many passengers travel between pickup and dropoff locations. "
   ]
  },
  {
   "cell_type": "code",
   "execution_count": 13,
   "id": "4e115152",
   "metadata": {},
   "outputs": [],
   "source": [
    "def common_pair(df):\n",
    "    '''\n",
    "    input: df a dataframe\n",
    "    output: df a dataframe with following columns:\n",
    "            - PULocationID\n",
    "            - DOLocationID\n",
    "            - passenger_count\n",
    "            - per_person_rate\n",
    "            \n",
    "    per_person_rate is the total_amount per person for a given pair.\n",
    "    \n",
    "    '''\n",
    "    \n",
    "    # START YOUR CODE HERE ---------\n",
    "\n",
    "    df.createOrReplaceTempView(\"your_table_name\")\n",
    "\n",
    "    result = sqlContext.sql(\"\"\"\n",
    "        SELECT\n",
    "            PULocationID,\n",
    "            DOLocationID,\n",
    "            SUM(passenger_count) AS passenger_count,\n",
    "            SUM(total_amount) / SUM(passenger_count) AS per_person_rate\n",
    "        FROM your_table_name\n",
    "        WHERE PULocationID != DOLocationID\n",
    "        GROUP BY PULocationID, DOLocationID\n",
    "        ORDER BY passenger_count DESC, per_person_rate DESC\n",
    "        LIMIT 10\n",
    "    \"\"\")\n",
    "    df = result\n",
    "\n",
    "    # END YOUR CODE HERE -----------\n",
    "    \n",
    "    return df"
   ]
  },
  {
   "cell_type": "markdown",
   "id": "127574ab",
   "metadata": {},
   "source": [
    "### Q1.c"
   ]
  },
  {
   "cell_type": "markdown",
   "id": "36a8fd27",
   "metadata": {},
   "source": [
    "Find trips which trip distances generate the highest tip percentage."
   ]
  },
  {
   "cell_type": "code",
   "execution_count": 43,
   "id": "376c981c",
   "metadata": {},
   "outputs": [],
   "source": [
    "def distance_with_most_tip(df):\n",
    "    '''\n",
    "    input: df a dataframe\n",
    "    output: df a dataframe with following columns:\n",
    "            - trip_distance\n",
    "            - tip_percent\n",
    "            \n",
    "    trip_percent is the percent of tip out of fare_amount\n",
    "    \n",
    "    '''\n",
    "    \n",
    "    # START YOUR CODE HERE ---------\n",
    "\n",
    "    df.createOrReplaceTempView(\"your_table_name\")\n",
    "\n",
    "    result = sqlContext.sql(\"\"\"\n",
    "        SELECT\n",
    "            ROUND(trip_distance) AS trip_distance,\n",
    "            AVG((tip_amount * 100) / fare_amount) AS trip_percent\n",
    "        FROM your_table_name\n",
    "        WHERE fare_amount > 2.0 AND trip_distance > 0\n",
    "        GROUP BY ROUND(trip_distance)\n",
    "        ORDER BY trip_percent DESC\n",
    "        LIMIT 15\n",
    "    \"\"\")\n",
    "    result = result.orderBy(\"trip_percent\")\n",
    "    df = result\n",
    "    \n",
    "    # END YOUR CODE HERE -----------\n",
    "    \n",
    "    return df"
   ]
  },
  {
   "cell_type": "markdown",
   "id": "f0172fe6",
   "metadata": {},
   "source": [
    "### Q1.d"
   ]
  },
  {
   "cell_type": "markdown",
   "id": "4613c906",
   "metadata": {},
   "source": [
    "Determine the average speed at different times of day."
   ]
  },
  {
   "cell_type": "code",
   "execution_count": 25,
   "id": "abff9e24",
   "metadata": {},
   "outputs": [],
   "source": [
    "def time_with_most_traffic(df):\n",
    "    '''\n",
    "    input: df a dataframe\n",
    "    output: df a dataframe with following columns:\n",
    "            - time_of_day\n",
    "            - am_avg_speed\n",
    "            - pm_avg_speed\n",
    "            \n",
    "    trip_percent is the percent of tip out of fare_amount\n",
    "    \n",
    "    '''\n",
    "    \n",
    "    # START YOUR CODE HERE ---------\n",
    "\n",
    "    df.createOrReplaceTempView(\"your_table_name\")\n",
    "\n",
    "    result = sqlContext.sql(\"\"\"\n",
    "        SELECT\n",
    "            (CAST(HOUR(tpep_pickup_datetime) AS INT) % 12) AS time_of_day,\n",
    "            AVG(CASE WHEN HOUR(tpep_pickup_datetime) < 12 THEN trip_distance / (UNIX_TIMESTAMP(tpep_dropoff_datetime) - UNIX_TIMESTAMP(tpep_pickup_datetime)) ELSE NULL END) AS am_avg_speed,\n",
    "            AVG(CASE WHEN HOUR(tpep_pickup_datetime) >= 12 THEN trip_distance / (UNIX_TIMESTAMP(tpep_dropoff_datetime) - UNIX_TIMESTAMP(tpep_pickup_datetime)) ELSE NULL END) AS pm_avg_speed\n",
    "        FROM your_table_name\n",
    "        WHERE UNIX_TIMESTAMP(tpep_dropoff_datetime) > UNIX_TIMESTAMP(tpep_pickup_datetime)  -- Ensure trip time is positive\n",
    "        GROUP BY (CAST(HOUR(tpep_pickup_datetime) AS INT) % 12)\n",
    "        ORDER BY (CAST(HOUR(tpep_pickup_datetime) AS INT) % 12)\n",
    "    \"\"\")\n",
    "\n",
    "    df = result\n",
    "    # END YOUR CODE HERE -----------\n",
    "    \n",
    "    return df"
   ]
  },
  {
   "cell_type": "markdown",
   "id": "34cbd7b9",
   "metadata": {},
   "source": [
    "### The below cells are for you to investigate your solutions and will not be graded\n",
    "## Ensure they are commented out prior to submitting to Gradescope to avoid errors"
   ]
  },
  {
   "cell_type": "code",
   "execution_count": 16,
   "id": "bf9abefb",
   "metadata": {},
   "outputs": [],
   "source": [
    "# df = load_data()\n",
    "# df = clean_data(df)"
   ]
  },
  {
   "cell_type": "code",
   "execution_count": 17,
   "id": "111c39f9-0894-4c1e-977d-bdee44cbadf6",
   "metadata": {},
   "outputs": [
    {
     "data": {
      "text/plain": [
       "DataFrame[VendorID: string, tpep_pickup_datetime: timestamp, tpep_dropoff_datetime: timestamp, passenger_count: int, trip_distance: float, RatecodeID: string, store_and_fwd_flag: string, PULocationID: string, DOLocationID: string, payment_type: string, fare_amount: float, extra: string, mta_tax: string, tip_amount: float, tolls_amount: string, improvement_surcharge: string, total_amount: float, congestion_surcharge: string]"
      ]
     },
     "metadata": {},
     "output_type": "display_data"
    }
   ],
   "source": [
    "# display(df)"
   ]
  },
  {
   "cell_type": "code",
   "execution_count": 18,
   "id": "cfa96f41",
   "metadata": {},
   "outputs": [
    {
     "name": "stderr",
     "output_type": "stream",
     "text": [
      "[Stage 2:>                                                          (0 + 1) / 1]\r"
     ]
    },
    {
     "name": "stdout",
     "output_type": "stream",
     "text": [
      "+------------+------------+---------------+------------------+\n",
      "|PULocationID|DOLocationID|passenger_count|   per_person_rate|\n",
      "+------------+------------+---------------+------------------+\n",
      "|         239|         238|             62|  4.26274198870505|\n",
      "|         237|         236|             60| 4.482500068346659|\n",
      "|         263|         141|             52|3.4190384974846473|\n",
      "|         161|         236|             42| 5.368571440378825|\n",
      "|         148|          79|             42| 4.711904752822149|\n",
      "|         142|         238|             39|  5.05487182812813|\n",
      "|         141|         236|             37| 4.355675723101641|\n",
      "|         239|         143|             37| 4.252162224537617|\n",
      "|         239|         142|             35| 3.817714350564139|\n",
      "|          79|         170|             34| 6.394705884596881|\n",
      "+------------+------------+---------------+------------------+\n",
      "\n"
     ]
    },
    {
     "name": "stderr",
     "output_type": "stream",
     "text": [
      "                                                                                \r"
     ]
    }
   ],
   "source": [
    "# common_pair(df).show()"
   ]
  },
  {
   "cell_type": "code",
   "execution_count": 44,
   "id": "8e42b46a",
   "metadata": {},
   "outputs": [
    {
     "name": "stdout",
     "output_type": "stream",
     "text": [
      "+-------------+------------------+\n",
      "|trip_distance|      trip_percent|\n",
      "+-------------+------------------+\n",
      "|         18.0|11.405847876237262|\n",
      "|         10.0|11.469710555853517|\n",
      "|         23.0|11.666666666666666|\n",
      "|          8.0|11.935883845460518|\n",
      "|          6.0|13.301329030626446|\n",
      "|          4.0|13.548640690629924|\n",
      "|          9.0| 13.56675764510684|\n",
      "|         19.0|14.024168214294264|\n",
      "|         21.0|14.318693182631236|\n",
      "|          3.0|14.467840950136962|\n",
      "|          5.0|14.791297045921036|\n",
      "|         17.0| 15.22190379132884|\n",
      "|          2.0|15.316307008502697|\n",
      "|          0.0|15.421387863221868|\n",
      "|          1.0|16.948128912014667|\n",
      "+-------------+------------------+\n",
      "\n"
     ]
    }
   ],
   "source": [
    "# distance_with_most_tip(df).show()"
   ]
  },
  {
   "cell_type": "code",
   "execution_count": 26,
   "id": "4f558c64",
   "metadata": {},
   "outputs": [
    {
     "name": "stdout",
     "output_type": "stream",
     "text": [
      "+-----------+--------------------+--------------------+\n",
      "|time_of_day|        am_avg_speed|        pm_avg_speed|\n",
      "+-----------+--------------------+--------------------+\n",
      "|          0|0.003382123058407...|                NULL|\n",
      "|          1|0.003020360777560...|0.001246246221187...|\n",
      "|          3|                NULL|                 0.0|\n",
      "|          4|                NULL|                 0.0|\n",
      "|          5|                NULL|5.169266426901604E-4|\n",
      "|          6|                NULL|0.002774957741846557|\n",
      "|          7|                NULL|5.115362636227142E-5|\n",
      "|          8|                NULL|0.001787106662091...|\n",
      "|         10|                NULL|0.003181326500429...|\n",
      "|         11|                NULL|0.003692714290889143|\n",
      "+-----------+--------------------+--------------------+\n",
      "\n"
     ]
    }
   ],
   "source": [
    "# time_with_most_traffic(df).show()"
   ]
  },
  {
   "cell_type": "code",
   "execution_count": null,
   "id": "ed55fc1f-47f0-4cf2-94e6-ec3fff28f3df",
   "metadata": {},
   "outputs": [],
   "source": []
  }
 ],
 "metadata": {
  "kernelspec": {
   "display_name": "Python 3 (ipykernel)",
   "language": "python",
   "name": "python3"
  },
  "language_info": {
   "codemirror_mode": {
    "name": "ipython",
    "version": 3
   },
   "file_extension": ".py",
   "mimetype": "text/x-python",
   "name": "python",
   "nbconvert_exporter": "python",
   "pygments_lexer": "ipython3",
   "version": "3.9.2"
  }
 },
 "nbformat": 4,
 "nbformat_minor": 5
}
